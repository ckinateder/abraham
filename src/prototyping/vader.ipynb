{
 "cells": [
  {
   "cell_type": "code",
   "execution_count": 6,
   "id": "cd0a843c",
   "metadata": {},
   "outputs": [],
   "source": [
    "from starwars import Anakin, Darth"
   ]
  },
  {
   "cell_type": "markdown",
   "id": "8380c1df",
   "metadata": {},
   "source": [
    "### Create the analyzer"
   ]
  },
  {
   "cell_type": "code",
   "execution_count": 9,
   "id": "f7d4f8fa",
   "metadata": {},
   "outputs": [],
   "source": [
    "darthvader = Darth()"
   ]
  },
  {
   "cell_type": "markdown",
   "id": "bd0a731a",
   "metadata": {},
   "source": [
    "### Get the articles for each search term"
   ]
  },
  {
   "cell_type": "code",
   "execution_count": 11,
   "id": "0cf696e3",
   "metadata": {
    "scrolled": true
   },
   "outputs": [
    {
     "name": "stderr",
     "output_type": "stream",
     "text": [
      "                                                              \r"
     ]
    },
    {
     "data": {
      "text/plain": [
       "{'incest': {'avg': -0.06861763213794594, 'nice': 'negative :('}}"
      ]
     },
     "execution_count": 11,
     "metadata": {},
     "output_type": "execute_result"
    }
   ],
   "source": [
    "darthvader.sentiment([\"incest\"])"
   ]
  },
  {
   "cell_type": "code",
   "execution_count": null,
   "id": "7fbe39d9",
   "metadata": {},
   "outputs": [],
   "source": []
  }
 ],
 "metadata": {
  "kernelspec": {
   "display_name": "Python 3",
   "language": "python",
   "name": "python3"
  },
  "language_info": {
   "codemirror_mode": {
    "name": "ipython",
    "version": 3
   },
   "file_extension": ".py",
   "mimetype": "text/x-python",
   "name": "python",
   "nbconvert_exporter": "python",
   "pygments_lexer": "ipython3",
   "version": "3.9.2"
  }
 },
 "nbformat": 4,
 "nbformat_minor": 5
}
