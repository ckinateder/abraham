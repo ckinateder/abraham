{
 "cells": [
  {
   "cell_type": "code",
   "execution_count": 1,
   "id": "59eeb679",
   "metadata": {},
   "outputs": [
    {
     "name": "stdout",
     "output_type": "stream",
     "text": [
      "INFO:tensorflow:Enabling eager execution\n",
      "INFO:tensorflow:Enabling v2 tensorshape\n",
      "INFO:tensorflow:Enabling resource variables\n",
      "INFO:tensorflow:Enabling tensor equality\n",
      "INFO:tensorflow:Enabling control flow v2\n",
      "Couldn't initialize gpu\n"
     ]
    }
   ],
   "source": [
    "from salt import Salty\n",
    "import pandas as pd\n",
    "import numpy as np\n",
    "from gnews import NewsParser\n",
    "from tqdm import tqdm\n",
    "from starwars import Darth"
   ]
  },
  {
   "cell_type": "code",
   "execution_count": 2,
   "id": "18b8f973",
   "metadata": {},
   "outputs": [
    {
     "name": "stdout",
     "output_type": "stream",
     "text": [
      "WARNING:tensorflow:SavedModel saved prior to TF 2.5 detected when loading Keras model. Please ensure that you are saving the model with model.save() or tf.keras.models.save_model(), *NOT* tf.saved_model.save(). To confirm, there should be a file named \"keras_metadata.pb\" in the SavedModel directory.\n",
      "Model: \"sequential\"\n",
      "_________________________________________________________________\n",
      "Layer (type)                 Output Shape              Param #   \n",
      "=================================================================\n",
      "embedding (Embedding)        (None, 1934, 128)         256000    \n",
      "_________________________________________________________________\n",
      "spatial_dropout1d (SpatialDr (None, 1934, 128)         0         \n",
      "_________________________________________________________________\n",
      "lstm (LSTM)                  (None, 196)               254800    \n",
      "_________________________________________________________________\n",
      "dense (Dense)                (None, 2)                 394       \n",
      "=================================================================\n",
      "Total params: 511,194\n",
      "Trainable params: 511,194\n",
      "Non-trainable params: 0\n",
      "_________________________________________________________________\n"
     ]
    },
    {
     "data": {
      "text/plain": [
       "<keras.engine.sequential.Sequential at 0x10bc7e0a0>"
      ]
     },
     "execution_count": 2,
     "metadata": {},
     "output_type": "execute_result"
    }
   ],
   "source": [
    "path = \"../datasets/\"\n",
    "imdb = pd.read_csv(path + \"IMDB Dataset.csv\")\n",
    "fina = pd.read_csv(path + \"financial-headlines.csv\")\n",
    "data = pd.concat([imdb, fina])  # combine into big\n",
    "salty = Salty()\n",
    "#salty.bundle_train_test(data)\n",
    "salty.load_model('../models/latest-model')"
   ]
  },
  {
   "cell_type": "code",
   "execution_count": 3,
   "id": "212f4291",
   "metadata": {},
   "outputs": [
    {
     "name": "stderr",
     "output_type": "stream",
     "text": [
      "                                                              \r"
     ]
    }
   ],
   "source": [
    "news = NewsParser()\n",
    "art = news.get_articles('coinbase')"
   ]
  },
  {
   "cell_type": "code",
   "execution_count": 4,
   "id": "3eeceaf0",
   "metadata": {
    "scrolled": false
   },
   "outputs": [
    {
     "name": "stderr",
     "output_type": "stream",
     "text": [
      "                                               \r"
     ]
    }
   ],
   "source": [
    "X = salty.create_X(imdb['review'].values[:20])\n",
    "X = salty.create_X(art['text'].values)"
   ]
  },
  {
   "cell_type": "code",
   "execution_count": 5,
   "id": "a72a895d",
   "metadata": {},
   "outputs": [
    {
     "name": "stdout",
     "output_type": "stream",
     "text": [
      "WARNING:tensorflow:Model was constructed with shape (None, 1934) for input KerasTensor(type_spec=TensorSpec(shape=(None, 1934), dtype=tf.float32, name='embedding_input'), name='embedding_input', description=\"created by layer 'embedding_input'\"), but it was called on an input with incompatible shape (1, 2333).\n",
      "WARNING:tensorflow:AutoGraph could not transform <bound method LSTMCell._compute_carry_and_output of <keras.layers.recurrent.LSTMCell object at 0x18334c5e0>> and will run it as-is.\n",
      "Please report this to the TensorFlow team. When filing the bug, set the verbosity to 10 (on Linux, `export AUTOGRAPH_VERBOSITY=10`) and attach the full output.\n",
      "Cause: invalid syntax (tmps2dyr29y.py, line 13)\n",
      "To silence this warning, decorate the function with @tf.autograph.experimental.do_not_convert\n",
      "WARNING: AutoGraph could not transform <bound method LSTMCell._compute_carry_and_output of <keras.layers.recurrent.LSTMCell object at 0x18334c5e0>> and will run it as-is.\n",
      "Please report this to the TensorFlow team. When filing the bug, set the verbosity to 10 (on Linux, `export AUTOGRAPH_VERBOSITY=10`) and attach the full output.\n",
      "Cause: invalid syntax (tmps2dyr29y.py, line 13)\n",
      "To silence this warning, decorate the function with @tf.autograph.experimental.do_not_convert\n",
      "WARNING:tensorflow:AutoGraph could not transform <bound method Dense.call of <keras.layers.core.Dense object at 0x1833e3280>> and will run it as-is.\n",
      "Please report this to the TensorFlow team. When filing the bug, set the verbosity to 10 (on Linux, `export AUTOGRAPH_VERBOSITY=10`) and attach the full output.\n",
      "Cause: invalid syntax (tmpqi5kngv5.py, line 48)\n",
      "To silence this warning, decorate the function with @tf.autograph.experimental.do_not_convert\n",
      "WARNING: AutoGraph could not transform <bound method Dense.call of <keras.layers.core.Dense object at 0x1833e3280>> and will run it as-is.\n",
      "Please report this to the TensorFlow team. When filing the bug, set the verbosity to 10 (on Linux, `export AUTOGRAPH_VERBOSITY=10`) and attach the full output.\n",
      "Cause: invalid syntax (tmpqi5kngv5.py, line 48)\n",
      "To silence this warning, decorate the function with @tf.autograph.experimental.do_not_convert\n",
      "Avg sentiment score: -0.4864864864864865\n"
     ]
    }
   ],
   "source": [
    "m = []\n",
    "for i in range(len(X)):\n",
    "    #print(art['text'].values[i])\n",
    "    n = salty.predict_next_value(X[i])\n",
    "    if n==0:\n",
    "        n=-1\n",
    "    m.append(n)\n",
    "total_avg = np.average(m)\n",
    "print(f\"Avg sentiment score: {total_avg}\")"
   ]
  },
  {
   "cell_type": "code",
   "execution_count": 6,
   "id": "7bf3aa5f",
   "metadata": {},
   "outputs": [
    {
     "name": "stderr",
     "output_type": "stream",
     "text": [
      "                                                               \r"
     ]
    },
    {
     "data": {
      "text/plain": [
       "{'robinhood': {'avg': 0.28133254089329607, 'nice': 'positive'}}"
      ]
     },
     "execution_count": 6,
     "metadata": {},
     "output_type": "execute_result"
    }
   ],
   "source": [
    "d = Darth()\n",
    "d.sentiment(['robinhood'])"
   ]
  },
  {
   "cell_type": "code",
   "execution_count": null,
   "id": "9adad97f",
   "metadata": {},
   "outputs": [],
   "source": []
  }
 ],
 "metadata": {
  "kernelspec": {
   "display_name": "Python 3",
   "language": "python",
   "name": "python3"
  },
  "language_info": {
   "codemirror_mode": {
    "name": "ipython",
    "version": 3
   },
   "file_extension": ".py",
   "mimetype": "text/x-python",
   "name": "python",
   "nbconvert_exporter": "python",
   "pygments_lexer": "ipython3",
   "version": "3.9.2"
  }
 },
 "nbformat": 4,
 "nbformat_minor": 5
}
