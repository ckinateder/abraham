{
 "cells": [
  {
   "cell_type": "code",
   "execution_count": 1,
   "id": "00cbdb01",
   "metadata": {},
   "outputs": [],
   "source": [
    "from starwars import Darth"
   ]
  },
  {
   "cell_type": "markdown",
   "id": "cec345cd",
   "metadata": {},
   "source": [
    "### Create the analyzer"
   ]
  },
  {
   "cell_type": "code",
   "execution_count": 2,
   "id": "f809efca",
   "metadata": {},
   "outputs": [],
   "source": [
    "darthvader = Darth(period='1d', news_source=\"newsapi\", splitting=True)"
   ]
  },
  {
   "cell_type": "markdown",
   "id": "0d1f985d",
   "metadata": {},
   "source": [
    "### Get the articles for each search term"
   ]
  },
  {
   "cell_type": "code",
   "execution_count": 3,
   "id": "3bcb7b02",
   "metadata": {
    "scrolled": true
   },
   "outputs": [
    {
     "name": "stderr",
     "output_type": "stream",
     "text": [
      "                                                            \r"
     ]
    },
    {
     "data": {
      "text/plain": [
       "{'robinhood': {'avg': 0.17294787301587303, 'nice': 'positive'},\n",
       " 'johnson and johnson': {'avg': 0.04772002969070766, 'nice': 'neutral'},\n",
       " 'bitcoin': {'avg': 0.20461953145759734, 'nice': 'positive'},\n",
       " 'dogecoin': {'avg': 0.29223878915202445, 'nice': 'positive'},\n",
       " 'biden': {'avg': -0.0006808394897557125, 'nice': 'neutral'},\n",
       " 'amazon': {'avg': 0.3146563581485483, 'nice': 'positive'}}"
      ]
     },
     "execution_count": 3,
     "metadata": {},
     "output_type": "execute_result"
    }
   ],
   "source": [
    "darthvader.sentiment([\"robinhood\", \"johnson and johnson\", \"bitcoin\", \"dogecoin\", \"biden\",  \"amazon\"])"
   ]
  },
  {
   "cell_type": "code",
   "execution_count": null,
   "id": "6774860e",
   "metadata": {},
   "outputs": [],
   "source": []
  }
 ],
 "metadata": {
  "kernelspec": {
   "display_name": "Python 3",
   "language": "python",
   "name": "python3"
  },
  "language_info": {
   "codemirror_mode": {
    "name": "ipython",
    "version": 3
   },
   "file_extension": ".py",
   "mimetype": "text/x-python",
   "name": "python",
   "nbconvert_exporter": "python",
   "pygments_lexer": "ipython3",
   "version": "3.9.2"
  }
 },
 "nbformat": 4,
 "nbformat_minor": 5
}
