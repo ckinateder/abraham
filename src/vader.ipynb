{
 "cells": [
  {
   "cell_type": "code",
   "execution_count": 1,
   "id": "2f2b187e",
   "metadata": {},
   "outputs": [],
   "source": [
    "from news import NewsParser\n",
    "from vaderSentiment.vaderSentiment import SentimentIntensityAnalyzer\n",
    "import pandas as pd\n",
    "import statistics\n",
    "import matplotlib.pyplot as plt"
   ]
  },
  {
   "cell_type": "markdown",
   "id": "f24b0891",
   "metadata": {},
   "source": [
    "### Create the SIA analyzer"
   ]
  },
  {
   "cell_type": "code",
   "execution_count": 9,
   "id": "0374d227",
   "metadata": {},
   "outputs": [],
   "source": [
    "analyzer = SentimentIntensityAnalyzer()\n",
    "\n",
    "def sentiment_analyzer_sent(sentence):\n",
    "    score = analyzer.polarity_scores(sentence)\n",
    "    print(\"{:-<40} {}\".format(sentence, str(score)))"
   ]
  },
  {
   "cell_type": "code",
   "execution_count": 10,
   "id": "284d7c33",
   "metadata": {},
   "outputs": [],
   "source": [
    "def sentiment_analyzer_sentences(sentences):\n",
    "    scores = []\n",
    "    for sentence in sentences:\n",
    "        score = analyzer.polarity_scores(sentence)\n",
    "        if score['compound'] != 0: # remove all zeroes\n",
    "            score['sentence'] = sentence\n",
    "            scores.append(score)\n",
    "    scores = pd.DataFrame(scores)\n",
    "    return scores"
   ]
  },
  {
   "cell_type": "markdown",
   "id": "ab1dd768",
   "metadata": {},
   "source": [
    "### Get the articles for search term"
   ]
  },
  {
   "cell_type": "code",
   "execution_count": 4,
   "id": "03ec1e98",
   "metadata": {},
   "outputs": [
    {
     "name": "stdout",
     "output_type": "stream",
     "text": [
      "Failed on CBMib2h0dHBzOi8vd3d3LmJpe...\n",
      "Failed on CAIiEFqx1Eyzs9r7HxSPxdvdU...\n",
      "Failed on CAIiEIbimHGliRPTHekBCFJg4...\n",
      "Failed on CAIiEJ4dkoKmEPM2Wo9otj23r...\n",
      "Failed on CBMiUmh0dHBzOi8vd3d3LnB5b...\n",
      "Failed on CBMiP2h0dHBzOi8vd3d3LnB5b...\n",
      "Failed on CBMizAFodHRwOi8vdHdpbnNkY...\n",
      "Failed on CBMiR2h0dHBzOi8vd3d3LmJhc...\n",
      "Failed on CAIiEHOPhgWDGMqXbz0Xgo_bE...\n",
      "Failed on CBMicGh0dHBzOi8vd3d3LmJpe...\n",
      "Failed on CAIiEFxF_ij39xOxFKzFksxyG...\n",
      "Failed on CAIiEBYLgZOmKANGy1kyJG7fo...\n",
      "Failed on CBMiTmh0dHBzOi8vd3d3LnB5b...\n",
      "Failed on CBMiWWh0dHBzOi8vd3d3LnB5b...\n",
      "Failed on CAIiEPGuuL4BDucbXMrhLwOa6...\n",
      "Failed on CAIiEBz0lI4CsMgBS0eoFZ7nO...\n",
      "Failed on CBMicGh0dHBzOi8vd3d3LmJpe...\n",
      "Failed on CBMicGh0dHBzOi8vd3d3LmJpe...\n",
      "Failed on CAIiENJO4qy7Dsq08Dd1Ar7u5...\n",
      "Failed on CBMiamh0dHBzOi8vd3d3LmJpe...\n",
      "Failed on CBMiYmh0dHBzOi8vd3d3LnB5b...\n",
      "Failed on CBMi2AFodHRwOi8vdHdpbnNkY...\n",
      "Failed on CBMiZWh0dHBzOi8vd3d3LnNlY...\n"
     ]
    }
   ],
   "source": [
    "newsparser = NewsParser()\n",
    "test_text_list = newsparser.get_articles(\"coinbase\")"
   ]
  },
  {
   "cell_type": "markdown",
   "id": "65df6688",
   "metadata": {},
   "source": [
    "### Compute the total averages"
   ]
  },
  {
   "cell_type": "code",
   "execution_count": 11,
   "id": "326b5590",
   "metadata": {},
   "outputs": [],
   "source": [
    "def compute_total_avg(test_text_list):\n",
    "    # compute the average for each column\n",
    "    titles = [t['title'] for t in test_text_list]\n",
    "    desc = [t['desc'] for t in test_text_list]\n",
    "    text = [t['text'] for t in test_text_list]\n",
    "    title_avg = sentiment_analyzer_sentences(titles).compound.mean()\n",
    "    desc_avg = sentiment_analyzer_sentences(desc).compound.mean()\n",
    "    text_avg = sentiment_analyzer_sentences(text).compound.mean()\n",
    "    total_avg = statistics.mean([title_avg, desc_avg, text_avg])\n",
    "    # classify\n",
    "    if total_avg >= 0.05:\n",
    "        classified = \"positive :)\"\n",
    "    elif total_avg <= 0.05:\n",
    "        classified = \"negative :(\"\n",
    "    else:\n",
    "        classified = \"neutral :|\"\n",
    "    return total_avg, classified"
   ]
  },
  {
   "cell_type": "code",
   "execution_count": 12,
   "id": "8f0182c9",
   "metadata": {
    "scrolled": false
   },
   "outputs": [
    {
     "name": "stdout",
     "output_type": "stream",
     "text": [
      "0.46592087590464026\n",
      "positive :)\n"
     ]
    }
   ],
   "source": [
    "total_avg, classified = compute_total_avg(test_text_list)\n",
    "print(total_avg)\n",
    "print(classified)"
   ]
  },
  {
   "cell_type": "code",
   "execution_count": 13,
   "id": "d11e3700",
   "metadata": {},
   "outputs": [
    {
     "data": {
      "text/plain": [
       "-2.5"
      ]
     },
     "execution_count": 13,
     "metadata": {},
     "output_type": "execute_result"
    }
   ],
   "source": [
    "analyzer.lexicon['bad']"
   ]
  },
  {
   "cell_type": "code",
   "execution_count": null,
   "id": "8e41d583",
   "metadata": {},
   "outputs": [],
   "source": []
  }
 ],
 "metadata": {
  "kernelspec": {
   "display_name": "Python 3",
   "language": "python",
   "name": "python3"
  },
  "language_info": {
   "codemirror_mode": {
    "name": "ipython",
    "version": 3
   },
   "file_extension": ".py",
   "mimetype": "text/x-python",
   "name": "python",
   "nbconvert_exporter": "python",
   "pygments_lexer": "ipython3",
   "version": "3.9.2"
  }
 },
 "nbformat": 4,
 "nbformat_minor": 5
}
