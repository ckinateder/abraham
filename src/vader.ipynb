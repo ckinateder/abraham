{
 "cells": [
  {
   "cell_type": "code",
   "execution_count": 7,
   "id": "00cbdb01",
   "metadata": {},
   "outputs": [],
   "source": [
    "from starwars import Darth"
   ]
  },
  {
   "cell_type": "markdown",
   "id": "cec345cd",
   "metadata": {},
   "source": [
    "### Create the analyzer"
   ]
  },
  {
   "cell_type": "code",
   "execution_count": 5,
   "id": "f809efca",
   "metadata": {},
   "outputs": [],
   "source": [
    "darthvader = Darth(period='1d', splitting=True)"
   ]
  },
  {
   "cell_type": "markdown",
   "id": "0d1f985d",
   "metadata": {},
   "source": [
    "### Get the articles for each search term"
   ]
  },
  {
   "cell_type": "code",
   "execution_count": 8,
   "id": "3bcb7b02",
   "metadata": {
    "scrolled": true
   },
   "outputs": [
    {
     "name": "stderr",
     "output_type": "stream",
     "text": [
      "johnson and johnson:  39%|███▉      | 92/235 [00:18<01:12,  1.96article/s]/usr/local/lib/python3.9/site-packages/dateutil/parser/_parser.py:1213: UnknownTimezoneWarning: tzname CDT identified but not understood.  Pass `tzinfos` argument in order to correctly return a timezone-aware datetime.  In a future version, this will raise an exception.\n",
      "  warnings.warn(\"tzname {tzname} identified but not understood.  \"\n",
      "                                                                           \r"
     ]
    },
    {
     "data": {
      "text/plain": [
       "{'robinhood': {'avg': 0.3798676562301132, 'nice': 'positive :)'},\n",
       " 'johnson and johnson': {'avg': 0.27466788299009787, 'nice': 'positive :)'},\n",
       " 'bitcoin': {'avg': 0.28669931035859125, 'nice': 'positive :)'},\n",
       " 'dogecoin': {'avg': 0.2837840361036227, 'nice': 'positive :)'},\n",
       " 'biden': {'avg': 0.2404157345348728, 'nice': 'positive :)'},\n",
       " 'amazon': {'avg': 0.2894022880254384, 'nice': 'positive :)'}}"
      ]
     },
     "execution_count": 8,
     "metadata": {},
     "output_type": "execute_result"
    }
   ],
   "source": [
    "darthvader.sentiment([\"robinhood\", \"johnson and johnson\", \"bitcoin\", \"dogecoin\", \"biden\",  \"amazon\"])"
   ]
  },
  {
   "cell_type": "code",
   "execution_count": null,
   "id": "6774860e",
   "metadata": {},
   "outputs": [],
   "source": []
  }
 ],
 "metadata": {
  "kernelspec": {
   "display_name": "Python 3",
   "language": "python",
   "name": "python3"
  },
  "language_info": {
   "codemirror_mode": {
    "name": "ipython",
    "version": 3
   },
   "file_extension": ".py",
   "mimetype": "text/x-python",
   "name": "python",
   "nbconvert_exporter": "python",
   "pygments_lexer": "ipython3",
   "version": "3.9.2"
  }
 },
 "nbformat": 4,
 "nbformat_minor": 5
}
