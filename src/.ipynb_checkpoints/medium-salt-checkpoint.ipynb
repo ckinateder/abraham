{
 "cells": [
  {
   "cell_type": "code",
   "execution_count": 70,
   "id": "59eeb679",
   "metadata": {},
   "outputs": [],
   "source": [
    "from salt import Salty\n",
    "import pandas as pd\n",
    "import numpy as np\n",
    "from gnews import NewsParser\n",
    "from tqdm import tqdm\n",
    "from starwars import Darth"
   ]
  },
  {
   "cell_type": "code",
   "execution_count": 2,
   "id": "18b8f973",
   "metadata": {},
   "outputs": [
    {
     "name": "stdout",
     "output_type": "stream",
     "text": [
      "WARNING:tensorflow:SavedModel saved prior to TF 2.5 detected when loading Keras model. Please ensure that you are saving the model with model.save() or tf.keras.models.save_model(), *NOT* tf.saved_model.save(). To confirm, there should be a file named \"keras_metadata.pb\" in the SavedModel directory.\n",
      "Model: \"sequential\"\n",
      "_________________________________________________________________\n",
      "Layer (type)                 Output Shape              Param #   \n",
      "=================================================================\n",
      "embedding (Embedding)        (None, 1934, 128)         256000    \n",
      "_________________________________________________________________\n",
      "spatial_dropout1d (SpatialDr (None, 1934, 128)         0         \n",
      "_________________________________________________________________\n",
      "lstm (LSTM)                  (None, 196)               254800    \n",
      "_________________________________________________________________\n",
      "dense (Dense)                (None, 2)                 394       \n",
      "=================================================================\n",
      "Total params: 511,194\n",
      "Trainable params: 511,194\n",
      "Non-trainable params: 0\n",
      "_________________________________________________________________\n"
     ]
    },
    {
     "data": {
      "text/plain": [
       "<keras.engine.sequential.Sequential at 0x17f9538e0>"
      ]
     },
     "execution_count": 2,
     "metadata": {},
     "output_type": "execute_result"
    }
   ],
   "source": [
    "path = \"../datasets/\"\n",
    "imdb = pd.read_csv(path + \"IMDB Dataset.csv\")\n",
    "fina = pd.read_csv(path + \"financial-headlines.csv\")\n",
    "data = pd.concat([imdb, fina])  # combine into big\n",
    "salty = Salty()\n",
    "#salty.bundle_train_test(data)\n",
    "salty.load_model('../models/latest-model')"
   ]
  },
  {
   "cell_type": "code",
   "execution_count": 67,
   "id": "512f7027",
   "metadata": {},
   "outputs": [
    {
     "name": "stderr",
     "output_type": "stream",
     "text": [
      "johnson and johnson:   8%|▊         | 7/87 [00:02<00:27,  2.93article/s]/usr/local/lib/python3.9/site-packages/dateutil/parser/_parser.py:1213: UnknownTimezoneWarning: tzname CDT identified but not understood.  Pass `tzinfos` argument in order to correctly return a timezone-aware datetime.  In a future version, this will raise an exception.\n",
      "  warnings.warn(\"tzname {tzname} identified but not understood.  \"\n",
      "/usr/local/lib/python3.9/site-packages/dateutil/parser/_parser.py:1213: UnknownTimezoneWarning: tzname MDT identified but not understood.  Pass `tzinfos` argument in order to correctly return a timezone-aware datetime.  In a future version, this will raise an exception.\n",
      "  warnings.warn(\"tzname {tzname} identified but not understood.  \"\n",
      "                                                                         \r"
     ]
    }
   ],
   "source": [
    "news = NewsParser()\n",
    "art = news.get_articles('johnson and johnson')"
   ]
  },
  {
   "cell_type": "code",
   "execution_count": 84,
   "id": "3eeceaf0",
   "metadata": {
    "scrolled": false
   },
   "outputs": [
    {
     "name": "stderr",
     "output_type": "stream",
     "text": [
      "                                               \r"
     ]
    }
   ],
   "source": [
    "X = salty.create_X(imdb['review'].values[:20])\n",
    "X = salty.create_X(art['text'].values)"
   ]
  },
  {
   "cell_type": "code",
   "execution_count": 98,
   "id": "a72a895d",
   "metadata": {},
   "outputs": [
    {
     "name": "stdout",
     "output_type": "stream",
     "text": [
      "Avg sentiment score: 0.3563218390804598\n"
     ]
    }
   ],
   "source": [
    "m = []\n",
    "for i in range(len(X)):\n",
    "    #print(art['text'].values[i])\n",
    "    n = salty.predict_next_value(X[i])\n",
    "    if n==0:\n",
    "        n=-1\n",
    "    m.append(n)\n",
    "total_avg = np.average(m)\n",
    "print(f\"Avg sentiment score: {total_avg}\")"
   ]
  },
  {
   "cell_type": "code",
   "execution_count": 93,
   "id": "9bbf8a39",
   "metadata": {},
   "outputs": [
    {
     "name": "stderr",
     "output_type": "stream",
     "text": [
      "                                                           \r"
     ]
    },
    {
     "data": {
      "text/plain": [
       "{'topic': {'avg': 0.029152347810919244, 'nice': 'neutral'}}"
      ]
     },
     "execution_count": 93,
     "metadata": {},
     "output_type": "execute_result"
    }
   ],
   "source": [
    "d = Darth()\n",
    "d.score_all({'topic': art})"
   ]
  },
  {
   "cell_type": "code",
   "execution_count": null,
   "id": "e6478178",
   "metadata": {},
   "outputs": [],
   "source": []
  }
 ],
 "metadata": {
  "kernelspec": {
   "display_name": "Python 3",
   "language": "python",
   "name": "python3"
  },
  "language_info": {
   "codemirror_mode": {
    "name": "ipython",
    "version": 3
   },
   "file_extension": ".py",
   "mimetype": "text/x-python",
   "name": "python",
   "nbconvert_exporter": "python",
   "pygments_lexer": "ipython3",
   "version": "3.9.2"
  }
 },
 "nbformat": 4,
 "nbformat_minor": 5
}
